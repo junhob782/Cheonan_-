{
 "cells": [
  {
   "cell_type": "code",
   "execution_count": 2,
   "id": "954a9fdc",
   "metadata": {},
   "outputs": [
    {
     "name": "stdout",
     "output_type": "stream",
     "text": [
      "Requirement already satisfied: geopandas in c:\\users\\yeye0\\miniconda3\\envs\\view\\lib\\site-packages (1.1.1)\n",
      "Requirement already satisfied: matplotlib in c:\\users\\yeye0\\miniconda3\\envs\\view\\lib\\site-packages (3.10.5)\n",
      "Requirement already satisfied: folium in c:\\users\\yeye0\\miniconda3\\envs\\view\\lib\\site-packages (0.20.0)\n",
      "Requirement already satisfied: numpy>=1.24 in c:\\users\\yeye0\\miniconda3\\envs\\view\\lib\\site-packages (from geopandas) (2.3.2)\n",
      "Requirement already satisfied: pyogrio>=0.7.2 in c:\\users\\yeye0\\miniconda3\\envs\\view\\lib\\site-packages (from geopandas) (0.11.1)\n",
      "Requirement already satisfied: packaging in c:\\users\\yeye0\\miniconda3\\envs\\view\\lib\\site-packages (from geopandas) (25.0)\n",
      "Requirement already satisfied: pandas>=2.0.0 in c:\\users\\yeye0\\miniconda3\\envs\\view\\lib\\site-packages (from geopandas) (2.3.1)\n",
      "Requirement already satisfied: pyproj>=3.5.0 in c:\\users\\yeye0\\miniconda3\\envs\\view\\lib\\site-packages (from geopandas) (3.7.2)\n",
      "Requirement already satisfied: shapely>=2.0.0 in c:\\users\\yeye0\\miniconda3\\envs\\view\\lib\\site-packages (from geopandas) (2.1.1)\n",
      "Requirement already satisfied: contourpy>=1.0.1 in c:\\users\\yeye0\\miniconda3\\envs\\view\\lib\\site-packages (from matplotlib) (1.3.3)\n",
      "Requirement already satisfied: cycler>=0.10 in c:\\users\\yeye0\\miniconda3\\envs\\view\\lib\\site-packages (from matplotlib) (0.12.1)\n",
      "Requirement already satisfied: fonttools>=4.22.0 in c:\\users\\yeye0\\miniconda3\\envs\\view\\lib\\site-packages (from matplotlib) (4.59.1)\n",
      "Requirement already satisfied: kiwisolver>=1.3.1 in c:\\users\\yeye0\\miniconda3\\envs\\view\\lib\\site-packages (from matplotlib) (1.4.9)\n",
      "Requirement already satisfied: pillow>=8 in c:\\users\\yeye0\\miniconda3\\envs\\view\\lib\\site-packages (from matplotlib) (11.3.0)\n",
      "Requirement already satisfied: pyparsing>=2.3.1 in c:\\users\\yeye0\\miniconda3\\envs\\view\\lib\\site-packages (from matplotlib) (3.2.3)\n",
      "Requirement already satisfied: python-dateutil>=2.7 in c:\\users\\yeye0\\miniconda3\\envs\\view\\lib\\site-packages (from matplotlib) (2.9.0.post0)\n",
      "Requirement already satisfied: branca>=0.6.0 in c:\\users\\yeye0\\miniconda3\\envs\\view\\lib\\site-packages (from folium) (0.8.1)\n",
      "Requirement already satisfied: jinja2>=2.9 in c:\\users\\yeye0\\miniconda3\\envs\\view\\lib\\site-packages (from folium) (3.1.6)\n",
      "Requirement already satisfied: requests in c:\\users\\yeye0\\miniconda3\\envs\\view\\lib\\site-packages (from folium) (2.32.4)\n",
      "Requirement already satisfied: xyzservices in c:\\users\\yeye0\\miniconda3\\envs\\view\\lib\\site-packages (from folium) (2025.4.0)\n",
      "Requirement already satisfied: MarkupSafe>=2.0 in c:\\users\\yeye0\\miniconda3\\envs\\view\\lib\\site-packages (from jinja2>=2.9->folium) (3.0.2)\n",
      "Requirement already satisfied: pytz>=2020.1 in c:\\users\\yeye0\\miniconda3\\envs\\view\\lib\\site-packages (from pandas>=2.0.0->geopandas) (2025.2)\n",
      "Requirement already satisfied: tzdata>=2022.7 in c:\\users\\yeye0\\miniconda3\\envs\\view\\lib\\site-packages (from pandas>=2.0.0->geopandas) (2025.2)\n",
      "Requirement already satisfied: certifi in c:\\users\\yeye0\\miniconda3\\envs\\view\\lib\\site-packages (from pyogrio>=0.7.2->geopandas) (2025.8.3)\n",
      "Requirement already satisfied: six>=1.5 in c:\\users\\yeye0\\miniconda3\\envs\\view\\lib\\site-packages (from python-dateutil>=2.7->matplotlib) (1.17.0)\n",
      "Requirement already satisfied: charset_normalizer<4,>=2 in c:\\users\\yeye0\\miniconda3\\envs\\view\\lib\\site-packages (from requests->folium) (3.4.3)\n",
      "Requirement already satisfied: idna<4,>=2.5 in c:\\users\\yeye0\\miniconda3\\envs\\view\\lib\\site-packages (from requests->folium) (3.10)\n",
      "Requirement already satisfied: urllib3<3,>=1.21.1 in c:\\users\\yeye0\\miniconda3\\envs\\view\\lib\\site-packages (from requests->folium) (2.5.0)\n",
      "Note: you may need to restart the kernel to use updated packages.\n"
     ]
    }
   ],
   "source": [
    "pip install geopandas matplotlib folium"
   ]
  },
  {
   "cell_type": "code",
   "execution_count": 3,
   "id": "c2237730",
   "metadata": {},
   "outputs": [
    {
     "name": "stdout",
     "output_type": "stream",
     "text": [
      "저장 완료: C:/Users/yeye0/Desktop/천안시/설문/응답자 기본사항.csv\n",
      "저장 완료: C:/Users/yeye0/Desktop/천안시/설문/충남 내 거주,생활 여부.csv\n",
      "저장 완료: C:/Users/yeye0/Desktop/천안시/설문/19세 이후 이사.csv\n",
      "저장 완료: C:/Users/yeye0/Desktop/천안시/설문/19세 이후 이사 이유.csv\n",
      "저장 완료: C:/Users/yeye0/Desktop/천안시/설문/19세 이후 충청남도 내 이사.csv\n",
      "저장 완료: C:/Users/yeye0/Desktop/천안시/설문/충청남도 내 이사 이유.csv\n",
      "저장 완료: C:/Users/yeye0/Desktop/천안시/설문/거주지속여부.csv\n",
      "저장 완료: C:/Users/yeye0/Desktop/천안시/설문/이사희망지역.csv\n",
      "저장 완료: C:/Users/yeye0/Desktop/천안시/설문/탈충청남도 이유.csv\n",
      "저장 완료: C:/Users/yeye0/Desktop/천안시/설문/충청남도 계속 살고픈 이유.csv\n",
      "저장 완료: C:/Users/yeye0/Desktop/천안시/설문/충청남도 희망연봉.csv\n",
      "저장 완료: C:/Users/yeye0/Desktop/천안시/설문/충청남도 거주 만족도.csv\n",
      "저장 완료: C:/Users/yeye0/Desktop/천안시/설문/청년가구지원정책.csv\n"
     ]
    }
   ],
   "source": [
    "import pandas as pd\n",
    "\n",
    "# 엑셀 파일 경로\n",
    "excel_file = r\"C:\\Users\\yeye0\\Desktop\\천안시\\충청남도_청년종합실태조사2.xlsx\"\n",
    "\n",
    "# 모든 시트 불러오기\n",
    "xls = pd.ExcelFile(excel_file)\n",
    "\n",
    "# 시트별 CSV 저장\n",
    "for sheet_name in xls.sheet_names:\n",
    "    df = pd.read_excel(excel_file, sheet_name=sheet_name)\n",
    "    csv_file = f\"C:/Users/yeye0/Desktop/천안시/설문/{sheet_name}.csv\"\n",
    "    df.to_csv(csv_file, index=False, encoding='utf-8-sig')  # 한글 깨짐 방지\n",
    "    print(f\"저장 완료: {csv_file}\")\n"
   ]
  },
  {
   "cell_type": "markdown",
   "id": "9451412a",
   "metadata": {},
   "source": [
    "- 변수 데이터 전처리"
   ]
  },
  {
   "cell_type": "code",
   "execution_count": 4,
   "id": "3a42eea0",
   "metadata": {},
   "outputs": [
    {
     "name": "stdout",
     "output_type": "stream",
     "text": [
      "필터링된 데이터 개수: 2477\n"
     ]
    }
   ],
   "source": [
    "import pandas as pd\n",
    "\n",
    "# 원본 CSV 불러오기\n",
    "df = pd.read_csv(r\"C:\\Users\\yeye0\\Desktop\\천안시\\변수데이터\\국토교통부_전국 버스정류장 위치정보.csv\", encoding=\"cp949\")\n",
    "\n",
    "# '도시명'이 '충청남도 천안시'인 행만 필터링\n",
    "df_cheonan = df[df[\"도시명\"] == \"충청남도 천안시\"]\n",
    "\n",
    "# 결과 저장\n",
    "df_cheonan.to_csv(r\"C:\\Users\\yeye0\\Desktop\\천안시\\변수데이터\\국토교통부_전국 버스정류장 위치정보.csv\", index=False, encoding=\"utf-8-sig\")\n",
    "\n",
    "print(\"필터링된 데이터 개수:\", len(df_cheonan))\n"
   ]
  },
  {
   "cell_type": "code",
   "execution_count": 7,
   "id": "125b753f",
   "metadata": {},
   "outputs": [
    {
     "name": "stdout",
     "output_type": "stream",
     "text": [
      "필터링된 데이터 개수: 845\n",
      "저장 완료: C:\\Users\\yeye0\\Desktop\\천안시\\변수데이터\\병원정보서비스.csv\n"
     ]
    }
   ],
   "source": [
    "import pandas as pd\n",
    "import os\n",
    "\n",
    "# 원본 엑셀 파일 경로\n",
    "excel_file = r\"C:\\Users\\yeye0\\Desktop\\천안시\\변수데이터\\병원정보서비스.xlsx\"\n",
    "\n",
    "# CSV 저장 경로\n",
    "csv_file = r\"C:\\Users\\yeye0\\Desktop\\천안시\\변수데이터\\병원정보서비스.csv\"\n",
    "\n",
    "# 1. 엑셀 → CSV 변환\n",
    "df = pd.read_excel(excel_file)\n",
    "\n",
    "# CSV로 저장 (utf-8-sig로 저장하면 한글 깨짐 방지됨)\n",
    "df.to_csv(csv_file, index=False, encoding=\"utf-8-sig\")\n",
    "\n",
    "# 2. 다시 CSV 읽기 (혹은 df 바로 사용 가능)\n",
    "df_csv = pd.read_csv(csv_file, encoding=\"utf-8-sig\")\n",
    "\n",
    "# 3. '시군구코드명'이 천안서북구 or 천안동남구인 행만 추출\n",
    "df_cheonan = df_csv[df_csv[\"시군구코드명\"].isin([\"천안서북구\", \"천안동남구\"])]\n",
    "\n",
    "# 4. 결과 저장\n",
    "output_file = r\"C:\\Users\\yeye0\\Desktop\\천안시\\변수데이터\\병원정보서비스.csv\"\n",
    "df_cheonan.to_csv(output_file, index=False, encoding=\"utf-8-sig\")\n",
    "\n",
    "print(\"필터링된 데이터 개수:\", len(df_cheonan))\n",
    "print(f\"저장 완료: {output_file}\")"
   ]
  }
 ],
 "metadata": {
  "kernelspec": {
   "display_name": "view",
   "language": "python",
   "name": "python3"
  },
  "language_info": {
   "codemirror_mode": {
    "name": "ipython",
    "version": 3
   },
   "file_extension": ".py",
   "mimetype": "text/x-python",
   "name": "python",
   "nbconvert_exporter": "python",
   "pygments_lexer": "ipython3",
   "version": "3.11.13"
  }
 },
 "nbformat": 4,
 "nbformat_minor": 5
}
